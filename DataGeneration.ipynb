{
 "cells": [
  {
   "cell_type": "code",
   "execution_count": 1,
   "metadata": {},
   "outputs": [],
   "source": [
    "import numpy as np\n",
    "from sklearn.datasets import make_blobs\n",
    "import matplotlib.pyplot as plt"
   ]
  },
  {
   "cell_type": "code",
   "execution_count": 2,
   "metadata": {},
   "outputs": [],
   "source": [
    "def generate_data(m,n,filename):\n",
    "    #setting seed to ensure it's reproducible\n",
    "    np.random.seed(10)\n",
    "    A = make_blobs(n_samples=m, n_features=n, cluster_std=1.5)\n",
    "    A = A[0]\n",
    "    np.savetxt(filename, A, delimiter='\\t', fmt='%1f')\n",
    "    return A"
   ]
  },
  {
   "cell_type": "code",
   "execution_count": 3,
   "metadata": {},
   "outputs": [
    {
     "name": "stdout",
     "output_type": "stream",
     "text": [
      "[[ -3.47251475  -7.29796106]\n",
      " [  0.79278235  -4.59926851]\n",
      " [  2.32804473   3.28175086]\n",
      " [  6.02672785 -10.09140952]\n",
      " [  1.71302079   5.44682343]\n",
      " [  3.73321038   3.79517426]\n",
      " [  6.35841683 -10.66508935]\n",
      " [ -0.61633303  -3.62130649]\n",
      " [  4.33452705   5.34289362]\n",
      " [  5.82551811  -6.00751002]\n",
      " [  5.02543708 -10.40892453]\n",
      " [  0.41048247   5.90697865]\n",
      " [  3.08253868   2.54822153]\n",
      " [  1.79736352  -5.58884817]\n",
      " [ -0.46130387  -7.54303295]\n",
      " [  5.15803964   5.97791206]\n",
      " [  3.72150955  -9.3822557 ]\n",
      " [  3.91346263   2.04430947]\n",
      " [  5.25800416 -10.12823168]\n",
      " [  2.58009665   3.84523821]\n",
      " [  4.61659426  -8.52272098]\n",
      " [  2.94821887  -3.33331869]\n",
      " [  1.81329466   2.99540633]\n",
      " [  1.98696438  -4.76379411]\n",
      " [  5.57513669  -7.48796645]\n",
      " [ -0.11131352   4.6419171 ]\n",
      " [  2.45641455   4.37587012]\n",
      " [  4.20673886   5.22629305]\n",
      " [  2.22898892   6.24839056]\n",
      " [  5.82468024  -9.42213822]\n",
      " [  1.39082936  -7.03753313]\n",
      " [  0.83421073   4.64338795]\n",
      " [  3.11237579   4.26986677]\n",
      " [  7.31112126 -10.68291527]\n",
      " [ -0.63845405  -4.3314043 ]\n",
      " [  0.53676987  -3.08245513]\n",
      " [  1.48043195  -5.9457061 ]\n",
      " [  2.34927986   6.45968634]\n",
      " [  2.57419293   1.77850949]\n",
      " [  2.99886242   1.984487  ]\n",
      " [ -2.59646655  -4.58562112]\n",
      " [  6.07595215  -7.78040495]\n",
      " [ -1.64940583  -5.68867183]\n",
      " [  0.38139942  -6.27643197]\n",
      " [  4.74781304   5.49542732]\n",
      " [  5.62547531 -10.29917404]\n",
      " [  6.27414187  -9.8060914 ]\n",
      " [  3.97881436  -8.0425499 ]\n",
      " [ -1.5669892   -5.26346834]\n",
      " [  7.65321837 -11.20466834]\n",
      " [  4.52727269   8.67406527]\n",
      " [  3.3077147   -5.32829496]\n",
      " [  2.45982044 -12.20001946]\n",
      " [  7.11194975  -7.07602769]\n",
      " [ -0.10192174  -6.2252481 ]\n",
      " [  9.01846836  -8.20877261]\n",
      " [  2.59971893   5.56608948]\n",
      " [  0.73621186  -4.88262063]\n",
      " [  6.41676019 -10.11126885]\n",
      " [  4.88266409  -9.76781955]\n",
      " [  3.14509537   8.67755424]\n",
      " [  6.27945311   3.86704254]\n",
      " [ -1.71451581  -6.08715901]\n",
      " [  0.16984649  -3.69995128]\n",
      " [  1.7208928   -6.36203231]\n",
      " [  7.11959059 -10.63167606]\n",
      " [  5.76935806  -8.91725459]\n",
      " [  0.77096746  -4.38810548]\n",
      " [ -0.5295115   -6.69115325]\n",
      " [  0.46866517  -3.80160733]\n",
      " [  5.65059159   7.59329887]\n",
      " [  7.38912249  -9.29244109]\n",
      " [  2.20372156   4.45275477]\n",
      " [  2.01442534   5.1877339 ]\n",
      " [  0.33706203  -5.77001532]\n",
      " [  1.10526589   3.77906442]\n",
      " [  4.68285416   5.02004222]\n",
      " [  1.38389086  -9.97346225]\n",
      " [  5.01954088  -8.66515474]\n",
      " [  5.43285001  -9.84686133]\n",
      " [  5.9054475   -8.89360666]\n",
      " [  1.2886008    5.6807048 ]\n",
      " [  4.21952615  -9.90400747]\n",
      " [  3.74090322   6.35348138]\n",
      " [ -1.09905891  -5.89535631]\n",
      " [  1.94982499   5.11045907]\n",
      " [ -2.16118053  -6.52248725]\n",
      " [  4.9177025   -9.11670611]\n",
      " [  1.62033431  -4.6575383 ]\n",
      " [  0.66147292  -4.51050607]\n",
      " [  5.07813948 -10.33755436]\n",
      " [  6.99568715 -11.71279506]\n",
      " [  5.30472959 -10.37890513]\n",
      " [  0.50035667  -5.81498632]\n",
      " [ -0.38536603  -5.41813936]\n",
      " [ -1.09046692  -4.68406983]\n",
      " [  2.84917819   2.11489232]\n",
      " [  4.01726283 -10.31896684]\n",
      " [  6.68974997  -9.27958982]\n",
      " [  5.38755486  -9.15131971]]\n"
     ]
    },
    {
     "data": {
      "image/png": "[encoded data removed]",
      "text/plain": [
       "<Figure size 432x288 with 1 Axes>"
      ]
     },
     "metadata": {
      "needs_background": "light"
     },
     "output_type": "display_data"
    }
   ],
   "source": [
    "n=2\n",
    "m=100\n",
    "A = generate_data(m,n, f'data/data_{m}.dat')\n",
    "print(A)\n",
    "plt.figure()\n",
    "plt.scatter(x=A[:,0],y=A[:,1])\n",
    "plt.title(f'Generated data, n={n}, m={m}')\n",
    "plt.show()"
   ]
  }
 ],
 "metadata": {
  "kernelspec": {
   "display_name": "Python 3",
   "language": "python",
   "name": "python3"
  },
  "language_info": {
   "codemirror_mode": {
    "name": "ipython",
    "version": 3
   },
   "file_extension": ".py",
   "mimetype": "text/x-python",
   "name": "python",
   "nbconvert_exporter": "python",
   "pygments_lexer": "ipython3",
   "version": "3.8.5"
  }
 },
 "nbformat": 4,
 "nbformat_minor": 4
}
